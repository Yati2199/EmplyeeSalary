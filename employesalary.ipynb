{
 "cells": [
  {
   "cell_type": "code",
   "execution_count": 45,
   "id": "4b3a35fc",
   "metadata": {},
   "outputs": [],
   "source": [
    "import numpy as np\n",
    "import pandas as pd\n",
    "import matplotlib.pyplot as plt\n",
    "import seaborn as sns\n",
    "%matplotlib inline\n",
    "import warnings\n",
    "warnings.filterwarnings('ignore')"
   ]
  },
  {
   "cell_type": "code",
   "execution_count": 46,
   "id": "30b45270",
   "metadata": {},
   "outputs": [],
   "source": [
    "df=pd.read_csv('employee_salary.csv')"
   ]
  },
  {
   "cell_type": "code",
   "execution_count": 47,
   "id": "26977941",
   "metadata": {},
   "outputs": [
    {
     "data": {
      "text/html": [
       "<div>\n",
       "<style scoped>\n",
       "    .dataframe tbody tr th:only-of-type {\n",
       "        vertical-align: middle;\n",
       "    }\n",
       "\n",
       "    .dataframe tbody tr th {\n",
       "        vertical-align: top;\n",
       "    }\n",
       "\n",
       "    .dataframe thead th {\n",
       "        text-align: right;\n",
       "    }\n",
       "</style>\n",
       "<table border=\"1\" class=\"dataframe\">\n",
       "  <thead>\n",
       "    <tr style=\"text-align: right;\">\n",
       "      <th></th>\n",
       "      <th>SNo</th>\n",
       "      <th>Name</th>\n",
       "      <th>Age</th>\n",
       "      <th>City</th>\n",
       "      <th>Country</th>\n",
       "      <th>Salary</th>\n",
       "    </tr>\n",
       "  </thead>\n",
       "  <tbody>\n",
       "    <tr>\n",
       "      <th>0</th>\n",
       "      <td>1</td>\n",
       "      <td>Tom</td>\n",
       "      <td>28.0</td>\n",
       "      <td>Toronto</td>\n",
       "      <td>Canada</td>\n",
       "      <td>20000.0</td>\n",
       "    </tr>\n",
       "    <tr>\n",
       "      <th>1</th>\n",
       "      <td>2</td>\n",
       "      <td>Lee</td>\n",
       "      <td>31.0</td>\n",
       "      <td>Edmonto</td>\n",
       "      <td>Canada</td>\n",
       "      <td>3900.0</td>\n",
       "    </tr>\n",
       "    <tr>\n",
       "      <th>2</th>\n",
       "      <td>3</td>\n",
       "      <td>Dave</td>\n",
       "      <td>34.0</td>\n",
       "      <td>Toronto</td>\n",
       "      <td>Canada</td>\n",
       "      <td>8000.0</td>\n",
       "    </tr>\n",
       "    <tr>\n",
       "      <th>3</th>\n",
       "      <td>4</td>\n",
       "      <td>Anik</td>\n",
       "      <td>26.0</td>\n",
       "      <td>HongKong</td>\n",
       "      <td>Asia</td>\n",
       "      <td>66672.0</td>\n",
       "    </tr>\n",
       "    <tr>\n",
       "      <th>4</th>\n",
       "      <td>5</td>\n",
       "      <td>kamal</td>\n",
       "      <td>30.0</td>\n",
       "      <td>NaN</td>\n",
       "      <td>America</td>\n",
       "      <td>NaN</td>\n",
       "    </tr>\n",
       "    <tr>\n",
       "      <th>5</th>\n",
       "      <td>6</td>\n",
       "      <td>Geet</td>\n",
       "      <td>NaN</td>\n",
       "      <td>HongKong</td>\n",
       "      <td>Asia</td>\n",
       "      <td>30007.0</td>\n",
       "    </tr>\n",
       "    <tr>\n",
       "      <th>6</th>\n",
       "      <td>7</td>\n",
       "      <td>Steven</td>\n",
       "      <td>43.0</td>\n",
       "      <td>BayArea</td>\n",
       "      <td>America</td>\n",
       "      <td>8300.0</td>\n",
       "    </tr>\n",
       "    <tr>\n",
       "      <th>7</th>\n",
       "      <td>8</td>\n",
       "      <td>Ram</td>\n",
       "      <td>38.0</td>\n",
       "      <td>Hyderabad</td>\n",
       "      <td>Asia</td>\n",
       "      <td>54666.0</td>\n",
       "    </tr>\n",
       "    <tr>\n",
       "      <th>8</th>\n",
       "      <td>9</td>\n",
       "      <td>hari</td>\n",
       "      <td>50.0</td>\n",
       "      <td>newyork</td>\n",
       "      <td>America</td>\n",
       "      <td>67666.0</td>\n",
       "    </tr>\n",
       "    <tr>\n",
       "      <th>9</th>\n",
       "      <td>11</td>\n",
       "      <td>yami</td>\n",
       "      <td>NaN</td>\n",
       "      <td>newyork</td>\n",
       "      <td>America</td>\n",
       "      <td>8888.0</td>\n",
       "    </tr>\n",
       "    <tr>\n",
       "      <th>10</th>\n",
       "      <td>12</td>\n",
       "      <td>Anik</td>\n",
       "      <td>26.0</td>\n",
       "      <td>HongKong</td>\n",
       "      <td>Asia</td>\n",
       "      <td>66672.0</td>\n",
       "    </tr>\n",
       "    <tr>\n",
       "      <th>11</th>\n",
       "      <td>13</td>\n",
       "      <td>kamal</td>\n",
       "      <td>30.0</td>\n",
       "      <td>NaN</td>\n",
       "      <td>America</td>\n",
       "      <td>34344.0</td>\n",
       "    </tr>\n",
       "    <tr>\n",
       "      <th>12</th>\n",
       "      <td>14</td>\n",
       "      <td>Geet</td>\n",
       "      <td>22.0</td>\n",
       "      <td>HongKong</td>\n",
       "      <td>Asia</td>\n",
       "      <td>30007.0</td>\n",
       "    </tr>\n",
       "    <tr>\n",
       "      <th>13</th>\n",
       "      <td>15</td>\n",
       "      <td>Steven</td>\n",
       "      <td>43.0</td>\n",
       "      <td>NaN</td>\n",
       "      <td>America</td>\n",
       "      <td>8300.0</td>\n",
       "    </tr>\n",
       "    <tr>\n",
       "      <th>14</th>\n",
       "      <td>16</td>\n",
       "      <td>Ram</td>\n",
       "      <td>38.0</td>\n",
       "      <td>Hyderabad</td>\n",
       "      <td>Asia</td>\n",
       "      <td>54666.0</td>\n",
       "    </tr>\n",
       "    <tr>\n",
       "      <th>15</th>\n",
       "      <td>17</td>\n",
       "      <td>hari</td>\n",
       "      <td>NaN</td>\n",
       "      <td>newyork</td>\n",
       "      <td>America</td>\n",
       "      <td>67666.0</td>\n",
       "    </tr>\n",
       "    <tr>\n",
       "      <th>16</th>\n",
       "      <td>18</td>\n",
       "      <td>yami</td>\n",
       "      <td>27.0</td>\n",
       "      <td>newyork</td>\n",
       "      <td>America</td>\n",
       "      <td>8888.0</td>\n",
       "    </tr>\n",
       "    <tr>\n",
       "      <th>17</th>\n",
       "      <td>19</td>\n",
       "      <td>Lee</td>\n",
       "      <td>31.0</td>\n",
       "      <td>Edmonto</td>\n",
       "      <td>Canada</td>\n",
       "      <td>NaN</td>\n",
       "    </tr>\n",
       "    <tr>\n",
       "      <th>18</th>\n",
       "      <td>20</td>\n",
       "      <td>Andrew</td>\n",
       "      <td>34.0</td>\n",
       "      <td>Congo</td>\n",
       "      <td>Africa</td>\n",
       "      <td>34432.0</td>\n",
       "    </tr>\n",
       "    <tr>\n",
       "      <th>19</th>\n",
       "      <td>21</td>\n",
       "      <td>soham</td>\n",
       "      <td>32.0</td>\n",
       "      <td>Angola</td>\n",
       "      <td>Africa</td>\n",
       "      <td>34534.0</td>\n",
       "    </tr>\n",
       "    <tr>\n",
       "      <th>20</th>\n",
       "      <td>22</td>\n",
       "      <td>Grig</td>\n",
       "      <td>26.0</td>\n",
       "      <td>Finland</td>\n",
       "      <td>Europe</td>\n",
       "      <td>33451.0</td>\n",
       "    </tr>\n",
       "    <tr>\n",
       "      <th>21</th>\n",
       "      <td>23</td>\n",
       "      <td>Kiara</td>\n",
       "      <td>27.0</td>\n",
       "      <td>London</td>\n",
       "      <td>Europe</td>\n",
       "      <td>NaN</td>\n",
       "    </tr>\n",
       "  </tbody>\n",
       "</table>\n",
       "</div>"
      ],
      "text/plain": [
       "    SNo    Name   Age       City  Country   Salary\n",
       "0     1     Tom  28.0    Toronto   Canada  20000.0\n",
       "1     2     Lee  31.0    Edmonto   Canada   3900.0\n",
       "2     3    Dave  34.0    Toronto   Canada   8000.0\n",
       "3     4    Anik  26.0   HongKong     Asia  66672.0\n",
       "4     5   kamal  30.0        NaN  America      NaN\n",
       "5     6    Geet   NaN   HongKong     Asia  30007.0\n",
       "6     7  Steven  43.0    BayArea  America   8300.0\n",
       "7     8     Ram  38.0  Hyderabad     Asia  54666.0\n",
       "8     9    hari  50.0    newyork  America  67666.0\n",
       "9    11    yami   NaN    newyork  America   8888.0\n",
       "10   12    Anik  26.0   HongKong     Asia  66672.0\n",
       "11   13   kamal  30.0        NaN  America  34344.0\n",
       "12   14    Geet  22.0   HongKong     Asia  30007.0\n",
       "13   15  Steven  43.0        NaN  America   8300.0\n",
       "14   16     Ram  38.0  Hyderabad     Asia  54666.0\n",
       "15   17    hari   NaN    newyork  America  67666.0\n",
       "16   18    yami  27.0    newyork  America   8888.0\n",
       "17   19     Lee  31.0    Edmonto   Canada      NaN\n",
       "18   20  Andrew  34.0      Congo   Africa  34432.0\n",
       "19   21   soham  32.0     Angola   Africa  34534.0\n",
       "20   22    Grig  26.0    Finland   Europe  33451.0\n",
       "21   23   Kiara  27.0     London   Europe      NaN"
      ]
     },
     "execution_count": 47,
     "metadata": {},
     "output_type": "execute_result"
    }
   ],
   "source": [
    "df"
   ]
  },
  {
   "cell_type": "code",
   "execution_count": 48,
   "id": "9ca5874e",
   "metadata": {},
   "outputs": [
    {
     "data": {
      "text/plain": [
       "(22, 6)"
      ]
     },
     "execution_count": 48,
     "metadata": {},
     "output_type": "execute_result"
    }
   ],
   "source": [
    "df.shape"
   ]
  },
  {
   "cell_type": "code",
   "execution_count": 49,
   "id": "ea7dcc81",
   "metadata": {},
   "outputs": [
    {
     "data": {
      "text/plain": [
       "Index(['SNo', 'Name', 'Age', 'City', 'Country', 'Salary'], dtype='object')"
      ]
     },
     "execution_count": 49,
     "metadata": {},
     "output_type": "execute_result"
    }
   ],
   "source": [
    "df.columns"
   ]
  },
  {
   "cell_type": "code",
   "execution_count": 50,
   "id": "d6f729fd",
   "metadata": {},
   "outputs": [
    {
     "data": {
      "text/plain": [
       "SNo          int64\n",
       "Name        object\n",
       "Age        float64\n",
       "City        object\n",
       "Country     object\n",
       "Salary     float64\n",
       "dtype: object"
      ]
     },
     "execution_count": 50,
     "metadata": {},
     "output_type": "execute_result"
    }
   ],
   "source": [
    "df.dtypes"
   ]
  },
  {
   "cell_type": "code",
   "execution_count": 51,
   "id": "c8396537",
   "metadata": {},
   "outputs": [
    {
     "name": "stdout",
     "output_type": "stream",
     "text": [
      "<class 'pandas.core.frame.DataFrame'>\n",
      "RangeIndex: 22 entries, 0 to 21\n",
      "Data columns (total 6 columns):\n",
      " #   Column   Non-Null Count  Dtype  \n",
      "---  ------   --------------  -----  \n",
      " 0   SNo      22 non-null     int64  \n",
      " 1   Name     22 non-null     object \n",
      " 2   Age      19 non-null     float64\n",
      " 3   City     19 non-null     object \n",
      " 4   Country  22 non-null     object \n",
      " 5   Salary   19 non-null     float64\n",
      "dtypes: float64(2), int64(1), object(3)\n",
      "memory usage: 1.2+ KB\n"
     ]
    }
   ],
   "source": [
    "df.info()"
   ]
  },
  {
   "cell_type": "code",
   "execution_count": 52,
   "id": "e658bc5d",
   "metadata": {},
   "outputs": [
    {
     "data": {
      "text/plain": [
       "SNo        0\n",
       "Name       0\n",
       "Age        3\n",
       "City       3\n",
       "Country    0\n",
       "Salary     3\n",
       "dtype: int64"
      ]
     },
     "execution_count": 52,
     "metadata": {},
     "output_type": "execute_result"
    }
   ],
   "source": [
    "df.isnull().sum()"
   ]
  },
  {
   "cell_type": "code",
   "execution_count": 53,
   "id": "9a56566c",
   "metadata": {},
   "outputs": [
    {
     "data": {
      "text/plain": [
       "<AxesSubplot:>"
      ]
     },
     "execution_count": 53,
     "metadata": {},
     "output_type": "execute_result"
    },
    {
     "data": {
      "image/png": "[encoded data removed]",
      "text/plain": [
       "<Figure size 720x1440 with 1 Axes>"
      ]
     },
     "metadata": {
      "needs_background": "light"
     },
     "output_type": "display_data"
    }
   ],
   "source": [
    "#seeing missing values and filling\n",
    "plt.figure(figsize=(10,20))\n",
    "sns.heatmap(df.isnull(),yticklabels=False,cbar=False)"
   ]
  },
  {
   "cell_type": "code",
   "execution_count": 54,
   "id": "e194f717",
   "metadata": {},
   "outputs": [],
   "source": [
    "df.dropna(axis=0,inplace=True)"
   ]
  },
  {
   "cell_type": "code",
   "execution_count": 55,
   "id": "fd4f9a51",
   "metadata": {},
   "outputs": [
    {
     "data": {
      "text/plain": [
       "False"
      ]
     },
     "execution_count": 55,
     "metadata": {},
     "output_type": "execute_result"
    }
   ],
   "source": [
    "df.isnull().values.any()"
   ]
  },
  {
   "cell_type": "code",
   "execution_count": 56,
   "id": "3c7460b6",
   "metadata": {},
   "outputs": [
    {
     "data": {
      "text/plain": [
       "0     28.0\n",
       "1     31.0\n",
       "2     34.0\n",
       "3     26.0\n",
       "6     43.0\n",
       "7     38.0\n",
       "8     50.0\n",
       "10    26.0\n",
       "12    22.0\n",
       "14    38.0\n",
       "16    27.0\n",
       "18    34.0\n",
       "19    32.0\n",
       "20    26.0\n",
       "Name: Age, dtype: float64"
      ]
     },
     "execution_count": 56,
     "metadata": {},
     "output_type": "execute_result"
    }
   ],
   "source": [
    "avg = df['Age'].mean()\n",
    "df['Age'] = df['Age'].fillna(0)\n",
    "df[\"Age\"]\n"
   ]
  },
  {
   "cell_type": "code",
   "execution_count": 57,
   "id": "5bf4ffdb",
   "metadata": {},
   "outputs": [
    {
     "data": {
      "text/html": [
       "<div>\n",
       "<style scoped>\n",
       "    .dataframe tbody tr th:only-of-type {\n",
       "        vertical-align: middle;\n",
       "    }\n",
       "\n",
       "    .dataframe tbody tr th {\n",
       "        vertical-align: top;\n",
       "    }\n",
       "\n",
       "    .dataframe thead th {\n",
       "        text-align: right;\n",
       "    }\n",
       "</style>\n",
       "<table border=\"1\" class=\"dataframe\">\n",
       "  <thead>\n",
       "    <tr style=\"text-align: right;\">\n",
       "      <th></th>\n",
       "      <th>SNo</th>\n",
       "      <th>Name</th>\n",
       "      <th>Age</th>\n",
       "      <th>City</th>\n",
       "      <th>Country</th>\n",
       "      <th>Salary</th>\n",
       "    </tr>\n",
       "  </thead>\n",
       "  <tbody>\n",
       "    <tr>\n",
       "      <th>0</th>\n",
       "      <td>1</td>\n",
       "      <td>Tom</td>\n",
       "      <td>28.0</td>\n",
       "      <td>Toronto</td>\n",
       "      <td>Canada</td>\n",
       "      <td>20000.0</td>\n",
       "    </tr>\n",
       "    <tr>\n",
       "      <th>1</th>\n",
       "      <td>2</td>\n",
       "      <td>Lee</td>\n",
       "      <td>31.0</td>\n",
       "      <td>Edmonto</td>\n",
       "      <td>Canada</td>\n",
       "      <td>3900.0</td>\n",
       "    </tr>\n",
       "    <tr>\n",
       "      <th>2</th>\n",
       "      <td>3</td>\n",
       "      <td>Dave</td>\n",
       "      <td>34.0</td>\n",
       "      <td>Toronto</td>\n",
       "      <td>Canada</td>\n",
       "      <td>8000.0</td>\n",
       "    </tr>\n",
       "    <tr>\n",
       "      <th>3</th>\n",
       "      <td>4</td>\n",
       "      <td>Anik</td>\n",
       "      <td>26.0</td>\n",
       "      <td>HongKong</td>\n",
       "      <td>Asia</td>\n",
       "      <td>66672.0</td>\n",
       "    </tr>\n",
       "    <tr>\n",
       "      <th>6</th>\n",
       "      <td>7</td>\n",
       "      <td>Steven</td>\n",
       "      <td>43.0</td>\n",
       "      <td>BayArea</td>\n",
       "      <td>America</td>\n",
       "      <td>8300.0</td>\n",
       "    </tr>\n",
       "  </tbody>\n",
       "</table>\n",
       "</div>"
      ],
      "text/plain": [
       "   SNo    Name   Age      City  Country   Salary\n",
       "0    1     Tom  28.0   Toronto   Canada  20000.0\n",
       "1    2     Lee  31.0   Edmonto   Canada   3900.0\n",
       "2    3    Dave  34.0   Toronto   Canada   8000.0\n",
       "3    4    Anik  26.0  HongKong     Asia  66672.0\n",
       "6    7  Steven  43.0   BayArea  America   8300.0"
      ]
     },
     "execution_count": 57,
     "metadata": {},
     "output_type": "execute_result"
    }
   ],
   "source": [
    "df.head()"
   ]
  },
  {
   "cell_type": "code",
   "execution_count": 58,
   "id": "76554d56",
   "metadata": {},
   "outputs": [
    {
     "data": {
      "text/plain": [
       "<AxesSubplot:xlabel='City', ylabel='Salary'>"
      ]
     },
     "execution_count": 58,
     "metadata": {},
     "output_type": "execute_result"
    },
    {
     "data": {
      "image/png": "[encoded data removed]",
      "text/plain": [
       "<Figure size 432x288 with 1 Axes>"
      ]
     },
     "metadata": {
      "needs_background": "light"
     },
     "output_type": "display_data"
    }
   ],
   "source": [
    "#plotting cost with histogram\n",
    "plt.xticks(rotation = 45)\n",
    "sns.scatterplot(data=df, x=\"City\", y=\"Salary\")"
   ]
  },
  {
   "cell_type": "code",
   "execution_count": 59,
   "id": "e45f80fc",
   "metadata": {},
   "outputs": [
    {
     "name": "stdout",
     "output_type": "stream",
     "text": [
      "Name  : ['Tom' 'Lee' 'Dave' 'Anik' 'Steven' 'Ram' 'hari' 'Geet' 'yami' 'Andrew'\n",
      " 'soham' 'Grig']\n",
      "Anik      2\n",
      "Ram       2\n",
      "Tom       1\n",
      "Lee       1\n",
      "Dave      1\n",
      "Steven    1\n",
      "hari      1\n",
      "Geet      1\n",
      "yami      1\n",
      "Andrew    1\n",
      "soham     1\n",
      "Grig      1\n",
      "Name: Name, dtype: int64\n",
      "**************************************************************************\n",
      "/n\n",
      "City  : ['Toronto' 'Edmonto' 'HongKong' 'BayArea' 'Hyderabad' 'newyork' 'Congo'\n",
      " 'Angola' 'Finland']\n",
      "HongKong     3\n",
      "Toronto      2\n",
      "Hyderabad    2\n",
      "newyork      2\n",
      "Edmonto      1\n",
      "BayArea      1\n",
      "Congo        1\n",
      "Angola       1\n",
      "Finland      1\n",
      "Name: City, dtype: int64\n",
      "**************************************************************************\n",
      "/n\n",
      "Country  : ['Canada' 'Asia' 'America' 'Africa' 'Europe']\n",
      "Asia       5\n",
      "Canada     3\n",
      "America    3\n",
      "Africa     2\n",
      "Europe     1\n",
      "Name: Country, dtype: int64\n",
      "**************************************************************************\n",
      "/n\n"
     ]
    }
   ],
   "source": [
    "#### exploring exploratory data variable\n",
    "for column in df.columns:\n",
    "    if df[column].dtype==object:\n",
    "        print(str(column)+ '  : '+str(df[column].unique()))\n",
    "        print(df[column].value_counts())\n",
    "        print('**************************************************************************')\n",
    "        print('/n')"
   ]
  },
  {
   "cell_type": "code",
   "execution_count": 60,
   "id": "2bae8556",
   "metadata": {},
   "outputs": [
    {
     "data": {
      "text/html": [
       "<div>\n",
       "<style scoped>\n",
       "    .dataframe tbody tr th:only-of-type {\n",
       "        vertical-align: middle;\n",
       "    }\n",
       "\n",
       "    .dataframe tbody tr th {\n",
       "        vertical-align: top;\n",
       "    }\n",
       "\n",
       "    .dataframe thead th {\n",
       "        text-align: right;\n",
       "    }\n",
       "</style>\n",
       "<table border=\"1\" class=\"dataframe\">\n",
       "  <thead>\n",
       "    <tr style=\"text-align: right;\">\n",
       "      <th></th>\n",
       "      <th>SNo</th>\n",
       "      <th>Name</th>\n",
       "      <th>Age</th>\n",
       "      <th>City</th>\n",
       "      <th>Country</th>\n",
       "      <th>Salary</th>\n",
       "    </tr>\n",
       "  </thead>\n",
       "  <tbody>\n",
       "    <tr>\n",
       "      <th>0</th>\n",
       "      <td>1</td>\n",
       "      <td>Tom</td>\n",
       "      <td>28.0</td>\n",
       "      <td>Toronto</td>\n",
       "      <td>Canada</td>\n",
       "      <td>20000.0</td>\n",
       "    </tr>\n",
       "    <tr>\n",
       "      <th>1</th>\n",
       "      <td>2</td>\n",
       "      <td>Lee</td>\n",
       "      <td>31.0</td>\n",
       "      <td>Edmonto</td>\n",
       "      <td>Canada</td>\n",
       "      <td>3900.0</td>\n",
       "    </tr>\n",
       "    <tr>\n",
       "      <th>2</th>\n",
       "      <td>3</td>\n",
       "      <td>Dave</td>\n",
       "      <td>34.0</td>\n",
       "      <td>Toronto</td>\n",
       "      <td>Canada</td>\n",
       "      <td>8000.0</td>\n",
       "    </tr>\n",
       "    <tr>\n",
       "      <th>3</th>\n",
       "      <td>4</td>\n",
       "      <td>Anik</td>\n",
       "      <td>26.0</td>\n",
       "      <td>HongKong</td>\n",
       "      <td>Asia</td>\n",
       "      <td>66672.0</td>\n",
       "    </tr>\n",
       "    <tr>\n",
       "      <th>6</th>\n",
       "      <td>7</td>\n",
       "      <td>Steven</td>\n",
       "      <td>43.0</td>\n",
       "      <td>BayArea</td>\n",
       "      <td>America</td>\n",
       "      <td>8300.0</td>\n",
       "    </tr>\n",
       "  </tbody>\n",
       "</table>\n",
       "</div>"
      ],
      "text/plain": [
       "   SNo    Name   Age      City  Country   Salary\n",
       "0    1     Tom  28.0   Toronto   Canada  20000.0\n",
       "1    2     Lee  31.0   Edmonto   Canada   3900.0\n",
       "2    3    Dave  34.0   Toronto   Canada   8000.0\n",
       "3    4    Anik  26.0  HongKong     Asia  66672.0\n",
       "6    7  Steven  43.0   BayArea  America   8300.0"
      ]
     },
     "execution_count": 60,
     "metadata": {},
     "output_type": "execute_result"
    }
   ],
   "source": [
    "df.head()"
   ]
  },
  {
   "cell_type": "markdown",
   "id": "d988775c",
   "metadata": {},
   "source": [
    "# EDA"
   ]
  },
  {
   "cell_type": "code",
   "execution_count": 61,
   "id": "2a8e8d27",
   "metadata": {},
   "outputs": [
    {
     "data": {
      "image/png": "[encoded data removed]",
      "text/plain": [
       "<Figure size 576x432 with 1 Axes>"
      ]
     },
     "metadata": {
      "needs_background": "light"
     },
     "output_type": "display_data"
    }
   ],
   "source": [
    "plt.figure(figsize=(8,6))\n",
    "sns.scatterplot(x='Name',y='Salary',data=df,palette='GnBu')\n",
    "plt.title('Employee')\n",
    "plt.show()"
   ]
  },
  {
   "cell_type": "code",
   "execution_count": 62,
   "id": "a2380c71",
   "metadata": {},
   "outputs": [
    {
     "data": {
      "image/png": "[encoded data removed]",
      "text/plain": [
       "<Figure size 576x432 with 1 Axes>"
      ]
     },
     "metadata": {
      "needs_background": "light"
     },
     "output_type": "display_data"
    }
   ],
   "source": [
    "plt.figure(figsize=(8,6))\n",
    "sns.scatterplot(x='Age',y='Salary',data=df,palette='GnBu')\n",
    "plt.title('Employee')\n",
    "plt.show()"
   ]
  },
  {
   "cell_type": "code",
   "execution_count": 63,
   "id": "745107be",
   "metadata": {},
   "outputs": [
    {
     "data": {
      "image/png": "[encoded data removed]",
      "text/plain": [
       "<Figure size 576x432 with 1 Axes>"
      ]
     },
     "metadata": {
      "needs_background": "light"
     },
     "output_type": "display_data"
    }
   ],
   "source": [
    "plt.figure(figsize=(8,6))\n",
    "sns.scatterplot(x='City',y='Salary',data=df,palette='GnBu')\n",
    "plt.title('Employee')\n",
    "plt.show()"
   ]
  },
  {
   "cell_type": "code",
   "execution_count": 64,
   "id": "fdf93e48",
   "metadata": {},
   "outputs": [
    {
     "data": {
      "image/png": "[encoded data removed]",
      "text/plain": [
       "<Figure size 576x432 with 1 Axes>"
      ]
     },
     "metadata": {
      "needs_background": "light"
     },
     "output_type": "display_data"
    }
   ],
   "source": [
    "plt.figure(figsize=(8,6))\n",
    "sns.scatterplot(x='Country',y='Salary',data=df,palette='GnBu')\n",
    "plt.title('Employee')\n",
    "plt.show()"
   ]
  },
  {
   "cell_type": "markdown",
   "id": "3e516cd9",
   "metadata": {},
   "source": [
    "# summaryStatistic"
   ]
  },
  {
   "cell_type": "code",
   "execution_count": 65,
   "id": "55ab6260",
   "metadata": {
    "scrolled": true
   },
   "outputs": [
    {
     "data": {
      "text/html": [
       "<div>\n",
       "<style scoped>\n",
       "    .dataframe tbody tr th:only-of-type {\n",
       "        vertical-align: middle;\n",
       "    }\n",
       "\n",
       "    .dataframe tbody tr th {\n",
       "        vertical-align: top;\n",
       "    }\n",
       "\n",
       "    .dataframe thead th {\n",
       "        text-align: right;\n",
       "    }\n",
       "</style>\n",
       "<table border=\"1\" class=\"dataframe\">\n",
       "  <thead>\n",
       "    <tr style=\"text-align: right;\">\n",
       "      <th></th>\n",
       "      <th>SNo</th>\n",
       "      <th>Age</th>\n",
       "      <th>Salary</th>\n",
       "    </tr>\n",
       "  </thead>\n",
       "  <tbody>\n",
       "    <tr>\n",
       "      <th>count</th>\n",
       "      <td>14.000000</td>\n",
       "      <td>14.000000</td>\n",
       "      <td>14.000000</td>\n",
       "    </tr>\n",
       "    <tr>\n",
       "      <th>mean</th>\n",
       "      <td>11.214286</td>\n",
       "      <td>32.500000</td>\n",
       "      <td>35132.428571</td>\n",
       "    </tr>\n",
       "    <tr>\n",
       "      <th>std</th>\n",
       "      <td>7.381667</td>\n",
       "      <td>7.703645</td>\n",
       "      <td>23518.179691</td>\n",
       "    </tr>\n",
       "    <tr>\n",
       "      <th>min</th>\n",
       "      <td>1.000000</td>\n",
       "      <td>22.000000</td>\n",
       "      <td>3900.000000</td>\n",
       "    </tr>\n",
       "    <tr>\n",
       "      <th>25%</th>\n",
       "      <td>4.750000</td>\n",
       "      <td>26.250000</td>\n",
       "      <td>11666.000000</td>\n",
       "    </tr>\n",
       "    <tr>\n",
       "      <th>50%</th>\n",
       "      <td>10.500000</td>\n",
       "      <td>31.500000</td>\n",
       "      <td>33941.500000</td>\n",
       "    </tr>\n",
       "    <tr>\n",
       "      <th>75%</th>\n",
       "      <td>17.500000</td>\n",
       "      <td>37.000000</td>\n",
       "      <td>54666.000000</td>\n",
       "    </tr>\n",
       "    <tr>\n",
       "      <th>max</th>\n",
       "      <td>22.000000</td>\n",
       "      <td>50.000000</td>\n",
       "      <td>67666.000000</td>\n",
       "    </tr>\n",
       "  </tbody>\n",
       "</table>\n",
       "</div>"
      ],
      "text/plain": [
       "             SNo        Age        Salary\n",
       "count  14.000000  14.000000     14.000000\n",
       "mean   11.214286  32.500000  35132.428571\n",
       "std     7.381667   7.703645  23518.179691\n",
       "min     1.000000  22.000000   3900.000000\n",
       "25%     4.750000  26.250000  11666.000000\n",
       "50%    10.500000  31.500000  33941.500000\n",
       "75%    17.500000  37.000000  54666.000000\n",
       "max    22.000000  50.000000  67666.000000"
      ]
     },
     "execution_count": 65,
     "metadata": {},
     "output_type": "execute_result"
    }
   ],
   "source": [
    "df.describe()"
   ]
  },
  {
   "cell_type": "code",
   "execution_count": 66,
   "id": "43deac59",
   "metadata": {},
   "outputs": [],
   "source": [
    "corr=df.corr()"
   ]
  },
  {
   "cell_type": "code",
   "execution_count": 67,
   "id": "2548e415",
   "metadata": {
    "scrolled": true
   },
   "outputs": [
    {
     "data": {
      "text/html": [
       "<div>\n",
       "<style scoped>\n",
       "    .dataframe tbody tr th:only-of-type {\n",
       "        vertical-align: middle;\n",
       "    }\n",
       "\n",
       "    .dataframe tbody tr th {\n",
       "        vertical-align: top;\n",
       "    }\n",
       "\n",
       "    .dataframe thead th {\n",
       "        text-align: right;\n",
       "    }\n",
       "</style>\n",
       "<table border=\"1\" class=\"dataframe\">\n",
       "  <thead>\n",
       "    <tr style=\"text-align: right;\">\n",
       "      <th></th>\n",
       "      <th>SNo</th>\n",
       "      <th>Age</th>\n",
       "      <th>Salary</th>\n",
       "    </tr>\n",
       "  </thead>\n",
       "  <tbody>\n",
       "    <tr>\n",
       "      <th>SNo</th>\n",
       "      <td>1.000000</td>\n",
       "      <td>-0.153533</td>\n",
       "      <td>0.138112</td>\n",
       "    </tr>\n",
       "    <tr>\n",
       "      <th>Age</th>\n",
       "      <td>-0.153533</td>\n",
       "      <td>1.000000</td>\n",
       "      <td>0.159232</td>\n",
       "    </tr>\n",
       "    <tr>\n",
       "      <th>Salary</th>\n",
       "      <td>0.138112</td>\n",
       "      <td>0.159232</td>\n",
       "      <td>1.000000</td>\n",
       "    </tr>\n",
       "  </tbody>\n",
       "</table>\n",
       "</div>"
      ],
      "text/plain": [
       "             SNo       Age    Salary\n",
       "SNo     1.000000 -0.153533  0.138112\n",
       "Age    -0.153533  1.000000  0.159232\n",
       "Salary  0.138112  0.159232  1.000000"
      ]
     },
     "execution_count": 67,
     "metadata": {},
     "output_type": "execute_result"
    }
   ],
   "source": [
    "corr"
   ]
  },
  {
   "cell_type": "code",
   "execution_count": 68,
   "id": "73092818",
   "metadata": {},
   "outputs": [
    {
     "data": {
      "image/png": "[encoded data removed]",
      "text/plain": [
       "<Figure size 720x576 with 2 Axes>"
      ]
     },
     "metadata": {
      "needs_background": "light"
     },
     "output_type": "display_data"
    }
   ],
   "source": [
    "plt.figure(figsize=(10,8))\n",
    "sns.heatmap(corr,annot=True,fmt=\".0%\",cmap='Dark2')\n",
    "plt.show()"
   ]
  },
  {
   "cell_type": "code",
   "execution_count": 69,
   "id": "16e4f6f0",
   "metadata": {},
   "outputs": [],
   "source": [
    "City=df['City']\n",
    "City=pd.get_dummies(City,drop_first=True)"
   ]
  },
  {
   "cell_type": "code",
   "execution_count": 70,
   "id": "ca104207",
   "metadata": {},
   "outputs": [],
   "source": [
    "Country=df['Country']\n",
    "Country=pd.get_dummies(Country,drop_first=True)"
   ]
  },
  {
   "cell_type": "code",
   "execution_count": 71,
   "id": "6d92157f",
   "metadata": {},
   "outputs": [],
   "source": [
    "df_temp=pd.concat([df,City,Country],axis=1)"
   ]
  },
  {
   "cell_type": "code",
   "execution_count": 72,
   "id": "4d5d6eea",
   "metadata": {},
   "outputs": [
    {
     "data": {
      "text/html": [
       "<div>\n",
       "<style scoped>\n",
       "    .dataframe tbody tr th:only-of-type {\n",
       "        vertical-align: middle;\n",
       "    }\n",
       "\n",
       "    .dataframe tbody tr th {\n",
       "        vertical-align: top;\n",
       "    }\n",
       "\n",
       "    .dataframe thead th {\n",
       "        text-align: right;\n",
       "    }\n",
       "</style>\n",
       "<table border=\"1\" class=\"dataframe\">\n",
       "  <thead>\n",
       "    <tr style=\"text-align: right;\">\n",
       "      <th></th>\n",
       "      <th>SNo</th>\n",
       "      <th>Name</th>\n",
       "      <th>Age</th>\n",
       "      <th>City</th>\n",
       "      <th>Country</th>\n",
       "      <th>Salary</th>\n",
       "      <th>BayArea</th>\n",
       "      <th>Congo</th>\n",
       "      <th>Edmonto</th>\n",
       "      <th>Finland</th>\n",
       "      <th>HongKong</th>\n",
       "      <th>Hyderabad</th>\n",
       "      <th>Toronto</th>\n",
       "      <th>newyork</th>\n",
       "      <th>America</th>\n",
       "      <th>Asia</th>\n",
       "      <th>Canada</th>\n",
       "      <th>Europe</th>\n",
       "    </tr>\n",
       "  </thead>\n",
       "  <tbody>\n",
       "    <tr>\n",
       "      <th>0</th>\n",
       "      <td>1</td>\n",
       "      <td>Tom</td>\n",
       "      <td>28.0</td>\n",
       "      <td>Toronto</td>\n",
       "      <td>Canada</td>\n",
       "      <td>20000.0</td>\n",
       "      <td>0</td>\n",
       "      <td>0</td>\n",
       "      <td>0</td>\n",
       "      <td>0</td>\n",
       "      <td>0</td>\n",
       "      <td>0</td>\n",
       "      <td>1</td>\n",
       "      <td>0</td>\n",
       "      <td>0</td>\n",
       "      <td>0</td>\n",
       "      <td>1</td>\n",
       "      <td>0</td>\n",
       "    </tr>\n",
       "    <tr>\n",
       "      <th>1</th>\n",
       "      <td>2</td>\n",
       "      <td>Lee</td>\n",
       "      <td>31.0</td>\n",
       "      <td>Edmonto</td>\n",
       "      <td>Canada</td>\n",
       "      <td>3900.0</td>\n",
       "      <td>0</td>\n",
       "      <td>0</td>\n",
       "      <td>1</td>\n",
       "      <td>0</td>\n",
       "      <td>0</td>\n",
       "      <td>0</td>\n",
       "      <td>0</td>\n",
       "      <td>0</td>\n",
       "      <td>0</td>\n",
       "      <td>0</td>\n",
       "      <td>1</td>\n",
       "      <td>0</td>\n",
       "    </tr>\n",
       "    <tr>\n",
       "      <th>2</th>\n",
       "      <td>3</td>\n",
       "      <td>Dave</td>\n",
       "      <td>34.0</td>\n",
       "      <td>Toronto</td>\n",
       "      <td>Canada</td>\n",
       "      <td>8000.0</td>\n",
       "      <td>0</td>\n",
       "      <td>0</td>\n",
       "      <td>0</td>\n",
       "      <td>0</td>\n",
       "      <td>0</td>\n",
       "      <td>0</td>\n",
       "      <td>1</td>\n",
       "      <td>0</td>\n",
       "      <td>0</td>\n",
       "      <td>0</td>\n",
       "      <td>1</td>\n",
       "      <td>0</td>\n",
       "    </tr>\n",
       "    <tr>\n",
       "      <th>3</th>\n",
       "      <td>4</td>\n",
       "      <td>Anik</td>\n",
       "      <td>26.0</td>\n",
       "      <td>HongKong</td>\n",
       "      <td>Asia</td>\n",
       "      <td>66672.0</td>\n",
       "      <td>0</td>\n",
       "      <td>0</td>\n",
       "      <td>0</td>\n",
       "      <td>0</td>\n",
       "      <td>1</td>\n",
       "      <td>0</td>\n",
       "      <td>0</td>\n",
       "      <td>0</td>\n",
       "      <td>0</td>\n",
       "      <td>1</td>\n",
       "      <td>0</td>\n",
       "      <td>0</td>\n",
       "    </tr>\n",
       "    <tr>\n",
       "      <th>6</th>\n",
       "      <td>7</td>\n",
       "      <td>Steven</td>\n",
       "      <td>43.0</td>\n",
       "      <td>BayArea</td>\n",
       "      <td>America</td>\n",
       "      <td>8300.0</td>\n",
       "      <td>1</td>\n",
       "      <td>0</td>\n",
       "      <td>0</td>\n",
       "      <td>0</td>\n",
       "      <td>0</td>\n",
       "      <td>0</td>\n",
       "      <td>0</td>\n",
       "      <td>0</td>\n",
       "      <td>1</td>\n",
       "      <td>0</td>\n",
       "      <td>0</td>\n",
       "      <td>0</td>\n",
       "    </tr>\n",
       "  </tbody>\n",
       "</table>\n",
       "</div>"
      ],
      "text/plain": [
       "   SNo    Name   Age      City  Country   Salary  BayArea  Congo  Edmonto  \\\n",
       "0    1     Tom  28.0   Toronto   Canada  20000.0        0      0        0   \n",
       "1    2     Lee  31.0   Edmonto   Canada   3900.0        0      0        1   \n",
       "2    3    Dave  34.0   Toronto   Canada   8000.0        0      0        0   \n",
       "3    4    Anik  26.0  HongKong     Asia  66672.0        0      0        0   \n",
       "6    7  Steven  43.0   BayArea  America   8300.0        1      0        0   \n",
       "\n",
       "   Finland  HongKong  Hyderabad  Toronto  newyork  America  Asia  Canada  \\\n",
       "0        0         0          0        1        0        0     0       1   \n",
       "1        0         0          0        0        0        0     0       1   \n",
       "2        0         0          0        1        0        0     0       1   \n",
       "3        0         1          0        0        0        0     1       0   \n",
       "6        0         0          0        0        0        1     0       0   \n",
       "\n",
       "   Europe  \n",
       "0       0  \n",
       "1       0  \n",
       "2       0  \n",
       "3       0  \n",
       "6       0  "
      ]
     },
     "execution_count": 72,
     "metadata": {},
     "output_type": "execute_result"
    }
   ],
   "source": [
    "df_temp.head()"
   ]
  },
  {
   "cell_type": "code",
   "execution_count": 73,
   "id": "e652ef0d",
   "metadata": {},
   "outputs": [
    {
     "data": {
      "text/html": [
       "<div>\n",
       "<style scoped>\n",
       "    .dataframe tbody tr th:only-of-type {\n",
       "        vertical-align: middle;\n",
       "    }\n",
       "\n",
       "    .dataframe tbody tr th {\n",
       "        vertical-align: top;\n",
       "    }\n",
       "\n",
       "    .dataframe thead th {\n",
       "        text-align: right;\n",
       "    }\n",
       "</style>\n",
       "<table border=\"1\" class=\"dataframe\">\n",
       "  <thead>\n",
       "    <tr style=\"text-align: right;\">\n",
       "      <th></th>\n",
       "      <th>SNo</th>\n",
       "      <th>Age</th>\n",
       "      <th>Salary</th>\n",
       "      <th>BayArea</th>\n",
       "      <th>Congo</th>\n",
       "      <th>Edmonto</th>\n",
       "      <th>Finland</th>\n",
       "      <th>HongKong</th>\n",
       "      <th>Hyderabad</th>\n",
       "      <th>Toronto</th>\n",
       "      <th>newyork</th>\n",
       "      <th>America</th>\n",
       "      <th>Asia</th>\n",
       "      <th>Canada</th>\n",
       "      <th>Europe</th>\n",
       "    </tr>\n",
       "  </thead>\n",
       "  <tbody>\n",
       "    <tr>\n",
       "      <th>0</th>\n",
       "      <td>1</td>\n",
       "      <td>28.0</td>\n",
       "      <td>20000.0</td>\n",
       "      <td>0</td>\n",
       "      <td>0</td>\n",
       "      <td>0</td>\n",
       "      <td>0</td>\n",
       "      <td>0</td>\n",
       "      <td>0</td>\n",
       "      <td>1</td>\n",
       "      <td>0</td>\n",
       "      <td>0</td>\n",
       "      <td>0</td>\n",
       "      <td>1</td>\n",
       "      <td>0</td>\n",
       "    </tr>\n",
       "    <tr>\n",
       "      <th>1</th>\n",
       "      <td>2</td>\n",
       "      <td>31.0</td>\n",
       "      <td>3900.0</td>\n",
       "      <td>0</td>\n",
       "      <td>0</td>\n",
       "      <td>1</td>\n",
       "      <td>0</td>\n",
       "      <td>0</td>\n",
       "      <td>0</td>\n",
       "      <td>0</td>\n",
       "      <td>0</td>\n",
       "      <td>0</td>\n",
       "      <td>0</td>\n",
       "      <td>1</td>\n",
       "      <td>0</td>\n",
       "    </tr>\n",
       "    <tr>\n",
       "      <th>2</th>\n",
       "      <td>3</td>\n",
       "      <td>34.0</td>\n",
       "      <td>8000.0</td>\n",
       "      <td>0</td>\n",
       "      <td>0</td>\n",
       "      <td>0</td>\n",
       "      <td>0</td>\n",
       "      <td>0</td>\n",
       "      <td>0</td>\n",
       "      <td>1</td>\n",
       "      <td>0</td>\n",
       "      <td>0</td>\n",
       "      <td>0</td>\n",
       "      <td>1</td>\n",
       "      <td>0</td>\n",
       "    </tr>\n",
       "    <tr>\n",
       "      <th>3</th>\n",
       "      <td>4</td>\n",
       "      <td>26.0</td>\n",
       "      <td>66672.0</td>\n",
       "      <td>0</td>\n",
       "      <td>0</td>\n",
       "      <td>0</td>\n",
       "      <td>0</td>\n",
       "      <td>1</td>\n",
       "      <td>0</td>\n",
       "      <td>0</td>\n",
       "      <td>0</td>\n",
       "      <td>0</td>\n",
       "      <td>1</td>\n",
       "      <td>0</td>\n",
       "      <td>0</td>\n",
       "    </tr>\n",
       "    <tr>\n",
       "      <th>6</th>\n",
       "      <td>7</td>\n",
       "      <td>43.0</td>\n",
       "      <td>8300.0</td>\n",
       "      <td>1</td>\n",
       "      <td>0</td>\n",
       "      <td>0</td>\n",
       "      <td>0</td>\n",
       "      <td>0</td>\n",
       "      <td>0</td>\n",
       "      <td>0</td>\n",
       "      <td>0</td>\n",
       "      <td>1</td>\n",
       "      <td>0</td>\n",
       "      <td>0</td>\n",
       "      <td>0</td>\n",
       "    </tr>\n",
       "    <tr>\n",
       "      <th>7</th>\n",
       "      <td>8</td>\n",
       "      <td>38.0</td>\n",
       "      <td>54666.0</td>\n",
       "      <td>0</td>\n",
       "      <td>0</td>\n",
       "      <td>0</td>\n",
       "      <td>0</td>\n",
       "      <td>0</td>\n",
       "      <td>1</td>\n",
       "      <td>0</td>\n",
       "      <td>0</td>\n",
       "      <td>0</td>\n",
       "      <td>1</td>\n",
       "      <td>0</td>\n",
       "      <td>0</td>\n",
       "    </tr>\n",
       "    <tr>\n",
       "      <th>8</th>\n",
       "      <td>9</td>\n",
       "      <td>50.0</td>\n",
       "      <td>67666.0</td>\n",
       "      <td>0</td>\n",
       "      <td>0</td>\n",
       "      <td>0</td>\n",
       "      <td>0</td>\n",
       "      <td>0</td>\n",
       "      <td>0</td>\n",
       "      <td>0</td>\n",
       "      <td>1</td>\n",
       "      <td>1</td>\n",
       "      <td>0</td>\n",
       "      <td>0</td>\n",
       "      <td>0</td>\n",
       "    </tr>\n",
       "    <tr>\n",
       "      <th>10</th>\n",
       "      <td>12</td>\n",
       "      <td>26.0</td>\n",
       "      <td>66672.0</td>\n",
       "      <td>0</td>\n",
       "      <td>0</td>\n",
       "      <td>0</td>\n",
       "      <td>0</td>\n",
       "      <td>1</td>\n",
       "      <td>0</td>\n",
       "      <td>0</td>\n",
       "      <td>0</td>\n",
       "      <td>0</td>\n",
       "      <td>1</td>\n",
       "      <td>0</td>\n",
       "      <td>0</td>\n",
       "    </tr>\n",
       "    <tr>\n",
       "      <th>12</th>\n",
       "      <td>14</td>\n",
       "      <td>22.0</td>\n",
       "      <td>30007.0</td>\n",
       "      <td>0</td>\n",
       "      <td>0</td>\n",
       "      <td>0</td>\n",
       "      <td>0</td>\n",
       "      <td>1</td>\n",
       "      <td>0</td>\n",
       "      <td>0</td>\n",
       "      <td>0</td>\n",
       "      <td>0</td>\n",
       "      <td>1</td>\n",
       "      <td>0</td>\n",
       "      <td>0</td>\n",
       "    </tr>\n",
       "    <tr>\n",
       "      <th>14</th>\n",
       "      <td>16</td>\n",
       "      <td>38.0</td>\n",
       "      <td>54666.0</td>\n",
       "      <td>0</td>\n",
       "      <td>0</td>\n",
       "      <td>0</td>\n",
       "      <td>0</td>\n",
       "      <td>0</td>\n",
       "      <td>1</td>\n",
       "      <td>0</td>\n",
       "      <td>0</td>\n",
       "      <td>0</td>\n",
       "      <td>1</td>\n",
       "      <td>0</td>\n",
       "      <td>0</td>\n",
       "    </tr>\n",
       "    <tr>\n",
       "      <th>16</th>\n",
       "      <td>18</td>\n",
       "      <td>27.0</td>\n",
       "      <td>8888.0</td>\n",
       "      <td>0</td>\n",
       "      <td>0</td>\n",
       "      <td>0</td>\n",
       "      <td>0</td>\n",
       "      <td>0</td>\n",
       "      <td>0</td>\n",
       "      <td>0</td>\n",
       "      <td>1</td>\n",
       "      <td>1</td>\n",
       "      <td>0</td>\n",
       "      <td>0</td>\n",
       "      <td>0</td>\n",
       "    </tr>\n",
       "    <tr>\n",
       "      <th>18</th>\n",
       "      <td>20</td>\n",
       "      <td>34.0</td>\n",
       "      <td>34432.0</td>\n",
       "      <td>0</td>\n",
       "      <td>1</td>\n",
       "      <td>0</td>\n",
       "      <td>0</td>\n",
       "      <td>0</td>\n",
       "      <td>0</td>\n",
       "      <td>0</td>\n",
       "      <td>0</td>\n",
       "      <td>0</td>\n",
       "      <td>0</td>\n",
       "      <td>0</td>\n",
       "      <td>0</td>\n",
       "    </tr>\n",
       "    <tr>\n",
       "      <th>19</th>\n",
       "      <td>21</td>\n",
       "      <td>32.0</td>\n",
       "      <td>34534.0</td>\n",
       "      <td>0</td>\n",
       "      <td>0</td>\n",
       "      <td>0</td>\n",
       "      <td>0</td>\n",
       "      <td>0</td>\n",
       "      <td>0</td>\n",
       "      <td>0</td>\n",
       "      <td>0</td>\n",
       "      <td>0</td>\n",
       "      <td>0</td>\n",
       "      <td>0</td>\n",
       "      <td>0</td>\n",
       "    </tr>\n",
       "    <tr>\n",
       "      <th>20</th>\n",
       "      <td>22</td>\n",
       "      <td>26.0</td>\n",
       "      <td>33451.0</td>\n",
       "      <td>0</td>\n",
       "      <td>0</td>\n",
       "      <td>0</td>\n",
       "      <td>1</td>\n",
       "      <td>0</td>\n",
       "      <td>0</td>\n",
       "      <td>0</td>\n",
       "      <td>0</td>\n",
       "      <td>0</td>\n",
       "      <td>0</td>\n",
       "      <td>0</td>\n",
       "      <td>1</td>\n",
       "    </tr>\n",
       "  </tbody>\n",
       "</table>\n",
       "</div>"
      ],
      "text/plain": [
       "    SNo   Age   Salary  BayArea  Congo  Edmonto  Finland  HongKong  Hyderabad  \\\n",
       "0     1  28.0  20000.0        0      0        0        0         0          0   \n",
       "1     2  31.0   3900.0        0      0        1        0         0          0   \n",
       "2     3  34.0   8000.0        0      0        0        0         0          0   \n",
       "3     4  26.0  66672.0        0      0        0        0         1          0   \n",
       "6     7  43.0   8300.0        1      0        0        0         0          0   \n",
       "7     8  38.0  54666.0        0      0        0        0         0          1   \n",
       "8     9  50.0  67666.0        0      0        0        0         0          0   \n",
       "10   12  26.0  66672.0        0      0        0        0         1          0   \n",
       "12   14  22.0  30007.0        0      0        0        0         1          0   \n",
       "14   16  38.0  54666.0        0      0        0        0         0          1   \n",
       "16   18  27.0   8888.0        0      0        0        0         0          0   \n",
       "18   20  34.0  34432.0        0      1        0        0         0          0   \n",
       "19   21  32.0  34534.0        0      0        0        0         0          0   \n",
       "20   22  26.0  33451.0        0      0        0        1         0          0   \n",
       "\n",
       "    Toronto  newyork  America  Asia  Canada  Europe  \n",
       "0         1        0        0     0       1       0  \n",
       "1         0        0        0     0       1       0  \n",
       "2         1        0        0     0       1       0  \n",
       "3         0        0        0     1       0       0  \n",
       "6         0        0        1     0       0       0  \n",
       "7         0        0        0     1       0       0  \n",
       "8         0        1        1     0       0       0  \n",
       "10        0        0        0     1       0       0  \n",
       "12        0        0        0     1       0       0  \n",
       "14        0        0        0     1       0       0  \n",
       "16        0        1        1     0       0       0  \n",
       "18        0        0        0     0       0       0  \n",
       "19        0        0        0     0       0       0  \n",
       "20        0        0        0     0       0       1  "
      ]
     },
     "execution_count": 73,
     "metadata": {},
     "output_type": "execute_result"
    }
   ],
   "source": [
    "df_train = df_temp.drop(columns = [\"Name\", \"City\", \"Country\"])\n",
    "df_train[\"Salary\"] = df_train[\"Salary\"].fillna(0)\n",
    "df_train"
   ]
  },
  {
   "cell_type": "code",
   "execution_count": 74,
   "id": "89d589f2",
   "metadata": {},
   "outputs": [],
   "source": [
    "x=df_train.drop(columns=['Salary'],axis=1)\n",
    "y=df_train['Salary']"
   ]
  },
  {
   "cell_type": "code",
   "execution_count": 75,
   "id": "a7e969fa",
   "metadata": {},
   "outputs": [],
   "source": [
    "from sklearn.preprocessing import StandardScaler\n",
    "sc=StandardScaler()\n",
    "x=sc.fit_transform(x)"
   ]
  },
  {
   "cell_type": "code",
   "execution_count": 76,
   "id": "ef40cd75",
   "metadata": {},
   "outputs": [],
   "source": [
    "from sklearn.model_selection import train_test_split\n",
    "x_train,x_test,y_train,y_test=train_test_split(x,y,test_size=.30,random_state=43)"
   ]
  },
  {
   "cell_type": "code",
   "execution_count": 77,
   "id": "25a48bf4",
   "metadata": {},
   "outputs": [
    {
     "name": "stdout",
     "output_type": "stream",
     "text": [
      "(9, 14)\n",
      "(5, 14)\n"
     ]
    }
   ],
   "source": [
    "print(x_train.shape)\n",
    "print(x_test.shape)"
   ]
  },
  {
   "cell_type": "code",
   "execution_count": 78,
   "id": "781b62a0",
   "metadata": {},
   "outputs": [
    {
     "name": "stdout",
     "output_type": "stream",
     "text": [
      "(9,)\n",
      "(5,)\n"
     ]
    }
   ],
   "source": [
    "print(y_train.shape)\n",
    "print(y_test.shape)"
   ]
  },
  {
   "cell_type": "code",
   "execution_count": 79,
   "id": "37383196",
   "metadata": {},
   "outputs": [],
   "source": [
    "#importing all library\n",
    "from sklearn.linear_model import LinearRegression,Lasso,Ridge,ElasticNet\n",
    "from sklearn.svm import SVR\n",
    "from sklearn.tree import DecisionTreeRegressor\n",
    "from sklearn.neighbors import KNeighborsRegressor\n",
    "#importing boosting library\n",
    "from sklearn.ensemble import RandomForestRegressor\n",
    "from sklearn.ensemble import AdaBoostRegressor\n",
    "from sklearn.ensemble import GradientBoostingRegressor\n",
    "#import metrics library\n",
    "from sklearn.metrics import mean_absolute_error,mean_squared_error,r2_score\n",
    "from sklearn.model_selection import GridSearchCV,cross_val_score\n",
    "from sklearn.metrics import accuracy_score,classification_report,confusion_matrix\n"
   ]
  },
  {
   "cell_type": "code",
   "execution_count": 80,
   "id": "11612df5",
   "metadata": {},
   "outputs": [
    {
     "name": "stdout",
     "output_type": "stream",
     "text": [
      "Analysis of  LinearRegression()  Model\n",
      "score of model is 100.0 %\n",
      "MAE 16645.55079738212\n",
      "MSE 320437102.95155776\n",
      "RSME 17900.757049676915\n",
      "R2SCORE 0.42797365392654085\n",
      "************************************************************************************\n",
      "/n\n",
      "Analysis of  Lasso()  Model\n",
      "score of model is 99.99996704729969 %\n",
      "MAE 15271.85278985208\n",
      "MSE 309249056.93142676\n",
      "RSME 17585.478581245003\n",
      "R2SCORE 0.44794592625595564\n",
      "************************************************************************************\n",
      "/n\n",
      "Analysis of  Ridge()  Model\n",
      "score of model is 93.43622542292701 %\n",
      "MAE 16291.116738193063\n",
      "MSE 327697007.59954643\n",
      "RSME 18102.403365286787\n",
      "R2SCORE 0.4150136792844704\n",
      "************************************************************************************\n",
      "/n\n",
      "Analysis of  ElasticNet()  Model\n",
      "score of model is 84.44580601531577 %\n",
      "MAE 16602.449083950607\n",
      "MSE 427387047.9024019\n",
      "RSME 20673.341478880524\n",
      "R2SCORE 0.23705260995418398\n",
      "************************************************************************************\n",
      "/n\n",
      "Analysis of  SVR()  Model\n",
      "score of model is -0.26238960914510834 %\n",
      "MAE 21085.81930147281\n",
      "MSE 560172244.0636094\n",
      "RSME 23667.958172677452\n",
      "R2SCORE 1.1924362210535833e-05\n",
      "************************************************************************************\n",
      "/n\n",
      "Analysis of  DecisionTreeRegressor()  Model\n",
      "score of model is 100.0 %\n",
      "MAE 17525.2\n",
      "MSE 484843161.2\n",
      "RSME 22019.154416098725\n",
      "R2SCORE 0.1344851786346707\n",
      "************************************************************************************\n",
      "/n\n",
      "Analysis of  KNeighborsRegressor()  Model\n",
      "score of model is 8.183250912240448 %\n",
      "MAE 22487.96\n",
      "MSE 616686603.864\n",
      "RSME 24833.17546879577\n",
      "R2SCORE -0.10087434142763274\n",
      "************************************************************************************\n",
      "/n\n",
      "Analysis of  RandomForestRegressor()  Model\n",
      "score of model is 76.82114366998213 %\n",
      "MAE 16098.096000000001\n",
      "MSE 355239365.2264401\n",
      "RSME 18847.794704591837\n",
      "R2SCORE 0.36584660702460736\n",
      "************************************************************************************\n",
      "/n\n",
      "Analysis of  AdaBoostRegressor()  Model\n",
      "score of model is 99.86146296699133 %\n",
      "MAE 18179.4\n",
      "MSE 447163458.6\n",
      "RSME 21146.239821774463\n",
      "R2SCORE 0.20174887063812452\n",
      "************************************************************************************\n",
      "/n\n",
      "Analysis of  GradientBoostingRegressor()  Model\n",
      "score of model is 99.99995997985822 %\n",
      "MAE 18031.173740263337\n",
      "MSE 468684841.96513575\n",
      "RSME 21649.130281956728\n",
      "R2SCORE 0.1633301039740599\n",
      "************************************************************************************\n",
      "/n\n"
     ]
    }
   ],
   "source": [
    "#all algorithm using loop\n",
    "model=[LinearRegression(),Lasso(),Ridge(),ElasticNet(),SVR(),DecisionTreeRegressor(),KNeighborsRegressor(),\n",
    "       RandomForestRegressor(),AdaBoostRegressor(),GradientBoostingRegressor()]\n",
    "for m in model:\n",
    "    m.fit(x_train,y_train)\n",
    "    score=m.score(x_train,y_train)\n",
    "    predm=m.predict(x_test)\n",
    "    print(\"Analysis of \", m, \" Model\")\n",
    "    print('score of model is',score * 100, \"%\")\n",
    "    print('MAE',mean_absolute_error(y_test,predm))\n",
    "    print('MSE',mean_squared_error(y_test,predm))\n",
    "    print(\"RSME\",np.sqrt(mean_squared_error(y_test,predm)))\n",
    "    print('R2SCORE',r2_score(y_test,predm))\n",
    "    print('************************************************************************************')\n",
    "    print('/n')"
   ]
  },
  {
   "cell_type": "code",
   "execution_count": 81,
   "id": "ce92279a",
   "metadata": {},
   "outputs": [],
   "source": [
    "dsr =DecisionTreeRegressor()"
   ]
  },
  {
   "cell_type": "code",
   "execution_count": 82,
   "id": "c7609644",
   "metadata": {},
   "outputs": [
    {
     "data": {
      "text/plain": [
       "array([30007., 30007., 34432., 34534.,  3900.])"
      ]
     },
     "execution_count": 82,
     "metadata": {},
     "output_type": "execute_result"
    }
   ],
   "source": [
    "dsr.fit(x_train, y_train)\n",
    "y_pred = dsr.predict(x_test)\n",
    "y_pred"
   ]
  },
  {
   "cell_type": "code",
   "execution_count": 83,
   "id": "5cb6d8bd",
   "metadata": {},
   "outputs": [
    {
     "name": "stdout",
     "output_type": "stream",
     "text": [
      "MAE 18410.2\n",
      "MSE 524573466.2\n",
      "RSME 22903.568852910237\n",
      "R2SCORE 0.06356086622453816\n"
     ]
    }
   ],
   "source": [
    "    print('MAE',mean_absolute_error(y_test,y_pred))\n",
    "    print('MSE',mean_squared_error(y_test,y_pred))\n",
    "    print(\"RSME\",np.sqrt(mean_squared_error(y_test,y_pred)))\n",
    "    print('R2SCORE',r2_score(y_test,y_pred))"
   ]
  },
  {
   "cell_type": "code",
   "execution_count": 84,
   "id": "e2b95527",
   "metadata": {},
   "outputs": [],
   "source": [
    "import pickle"
   ]
  },
  {
   "cell_type": "code",
   "execution_count": 86,
   "id": "b8558362",
   "metadata": {},
   "outputs": [],
   "source": [
    "filename='employesalary.csv'\n",
    "pickle.dump(dsr,open(filename,'wb'))"
   ]
  },
  {
   "cell_type": "code",
   "execution_count": 87,
   "id": "68010376",
   "metadata": {},
   "outputs": [],
   "source": [
    "a=np.array(y_test)\n"
   ]
  },
  {
   "cell_type": "code",
   "execution_count": 89,
   "id": "d47587bd",
   "metadata": {},
   "outputs": [],
   "source": [
    "predicted=np.array(dsr.predict(x_test))"
   ]
  },
  {
   "cell_type": "code",
   "execution_count": 90,
   "id": "54e7c4e2",
   "metadata": {},
   "outputs": [],
   "source": [
    "df_com=pd.DataFrame({'origianl':a,'predicted':predicted},index=range(len(a)))"
   ]
  },
  {
   "cell_type": "code",
   "execution_count": 91,
   "id": "8801adb6",
   "metadata": {},
   "outputs": [
    {
     "data": {
      "text/html": [
       "<div>\n",
       "<style scoped>\n",
       "    .dataframe tbody tr th:only-of-type {\n",
       "        vertical-align: middle;\n",
       "    }\n",
       "\n",
       "    .dataframe tbody tr th {\n",
       "        vertical-align: top;\n",
       "    }\n",
       "\n",
       "    .dataframe thead th {\n",
       "        text-align: right;\n",
       "    }\n",
       "</style>\n",
       "<table border=\"1\" class=\"dataframe\">\n",
       "  <thead>\n",
       "    <tr style=\"text-align: right;\">\n",
       "      <th></th>\n",
       "      <th>origianl</th>\n",
       "      <th>predicted</th>\n",
       "    </tr>\n",
       "  </thead>\n",
       "  <tbody>\n",
       "    <tr>\n",
       "      <th>0</th>\n",
       "      <td>54666.0</td>\n",
       "      <td>30007.0</td>\n",
       "    </tr>\n",
       "    <tr>\n",
       "      <th>1</th>\n",
       "      <td>66672.0</td>\n",
       "      <td>30007.0</td>\n",
       "    </tr>\n",
       "    <tr>\n",
       "      <th>2</th>\n",
       "      <td>8888.0</td>\n",
       "      <td>34432.0</td>\n",
       "    </tr>\n",
       "    <tr>\n",
       "      <th>3</th>\n",
       "      <td>33451.0</td>\n",
       "      <td>34534.0</td>\n",
       "    </tr>\n",
       "    <tr>\n",
       "      <th>4</th>\n",
       "      <td>8000.0</td>\n",
       "      <td>3900.0</td>\n",
       "    </tr>\n",
       "  </tbody>\n",
       "</table>\n",
       "</div>"
      ],
      "text/plain": [
       "   origianl  predicted\n",
       "0   54666.0    30007.0\n",
       "1   66672.0    30007.0\n",
       "2    8888.0    34432.0\n",
       "3   33451.0    34534.0\n",
       "4    8000.0     3900.0"
      ]
     },
     "execution_count": 91,
     "metadata": {},
     "output_type": "execute_result"
    }
   ],
   "source": [
    "df_com"
   ]
  },
  {
   "cell_type": "code",
   "execution_count": null,
   "id": "924c6b6a",
   "metadata": {},
   "outputs": [],
   "source": []
  }
 ],
 "metadata": {
  "kernelspec": {
   "display_name": "Python 3 (ipykernel)",
   "language": "python",
   "name": "python3"
  },
  "language_info": {
   "codemirror_mode": {
    "name": "ipython",
    "version": 3
   },
   "file_extension": ".py",
   "mimetype": "text/x-python",
   "name": "python",
   "nbconvert_exporter": "python",
   "pygments_lexer": "ipython3",
   "version": "3.9.12"
  }
 },
 "nbformat": 4,
 "nbformat_minor": 5
}
